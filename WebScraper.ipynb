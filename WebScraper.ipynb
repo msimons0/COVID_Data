{
  "nbformat": 4,
  "nbformat_minor": 0,
  "metadata": {
    "colab": {
      "name": "WebScraper.ipynb",
      "provenance": []
    },
    "kernelspec": {
      "name": "python3",
      "display_name": "Python 3"
    },
    "language_info": {
      "name": "python"
    }
  },
  "cells": [
    {
      "cell_type": "code",
      "metadata": {
        "id": "ITn91uFD3f6c"
      },
      "source": [
        "from bs4 import BeautifulSoup\n",
        "import pandas as pd\n",
        "from google.colab import files\n",
        "import requests\n",
        "\n",
        "pd.set_option('display.max_columns', 10)"
      ],
      "execution_count": null,
      "outputs": []
    },
    {
      "cell_type": "code",
      "metadata": {
        "id": "azdYzwyR6ZQX"
      },
      "source": [
        "url = 'https://bbmpgov.com/chbms/'\n",
        "page = requests.get(url)\n",
        "\n",
        "soup = BeautifulSoup(page.content, 'html.parser')\n",
        "\n",
        "hospitals = pd.DataFrame(columns=['Name', 'Gen', 'HDU', 'ICU', 'ICU Vent', 'Total'])"
      ],
      "execution_count": null,
      "outputs": []
    },
    {
      "cell_type": "code",
      "metadata": {
        "colab": {
          "base_uri": "https://localhost:8080/"
        },
        "id": "FZmM3oyE8P20",
        "outputId": "298d62fd-7d24-4478-8b95-68e8a516169e"
      },
      "source": [
        "data = soup.find(id='GovernmentHospitalsDetail')\n",
        "\n",
        "#print(data)\n",
        "\n",
        "for row in data.findAll('tr'):\n",
        "  cell = row.findAll('td')\n",
        "  #print(cell)\n",
        "  if len(cell)>0:\n",
        "    name = cell[2].text\n",
        "    gen = cell[-5].text\n",
        "    hdu = cell[-4].text\n",
        "    icu = cell[-3].text\n",
        "    icuVent = cell[-2].text\n",
        "    total = cell[-1].text\n",
        "    '''\n",
        "    print(name)\n",
        "    print(gen)\n",
        "    print(hdu)\n",
        "    print(icu)\n",
        "    print(icuVent)\n",
        "    print(total)\n",
        "    '''\n",
        "    hospitals.loc[len(hospitals.index)] = [name, gen, hdu, icu, icuVent, total] \n",
        "\n",
        "print(hospitals)"
      ],
      "execution_count": null,
      "outputs": [
        {
          "output_type": "stream",
          "text": [
            "                                            Name  Gen  HDU  ICU  ICU Vent  \\\n",
            "0                               Name of facility  Gen  HDU  ICU  ICUVentl   \n",
            "1   EMPLOYEES STATE INSURANCE CORPORATION Peenya    0    0    0         0   \n",
            "2                       ESI Hospital Indiranagar    0    0    0         0   \n",
            "3                    ESIMC PGIMSR MODEL HOSPITAL    0    0    0         0   \n",
            "4                        General Hospital Anekal   10    0    0         0   \n",
            "5                     General Hospital Jayanagar    4    0    0         0   \n",
            "6                      General Hospital Kr Puram   16    0    0         0   \n",
            "7                     General Hospital Yelahanka    3    0    0         0   \n",
            "8                           K C General Hospital    0    0    0         0   \n",
            "9     Sir C V Raman General Hopsital Indiranagar    3    0    0         0   \n",
            "10                    Taluk Hospital Devanahalli   19    1    0         0   \n",
            "11                       Taluk Hospital Hosakote    2    1    0         0   \n",
            "12                    Taluk Hospital Nelamangala    3    0    0         0   \n",
            "13            Taluka Heath Center Doddaballapura    1    0    0         0   \n",
            "14                                           Gen  Gen  HDU  ICU  ICUVentl   \n",
            "15                                            10    0    0    0         0   \n",
            "16                                            67    0    0    0         0   \n",
            "17                                            60    0    0    0         0   \n",
            "18                                            41   10    0    0         0   \n",
            "19                                            61    4    0    0         0   \n",
            "20                                            32   16    0    0         0   \n",
            "21                                            30    3    0    0         0   \n",
            "22                                            70    0    0    0         0   \n",
            "23                                           120    3    0    0         0   \n",
            "24                                            45   19    1    0         0   \n",
            "25                                            32    2    1    0         0   \n",
            "26                                            30    3    0    0         0   \n",
            "27                                            60    1    0    0         0   \n",
            "28                              Name of facility  Gen  HDU  ICU  ICUVentl   \n",
            "29  EMPLOYEES STATE INSURANCE CORPORATION Peenya    0    0    0         0   \n",
            "30                      ESI Hospital Indiranagar    0    0    0         0   \n",
            "31                   ESIMC PGIMSR MODEL HOSPITAL    0    0    0         0   \n",
            "32                       General Hospital Anekal   10    0    0         0   \n",
            "33                    General Hospital Jayanagar    4    0    0         0   \n",
            "34                     General Hospital Kr Puram   16    0    0         0   \n",
            "35                    General Hospital Yelahanka    3    0    0         0   \n",
            "36                          K C General Hospital    0    0    0         0   \n",
            "37    Sir C V Raman General Hopsital Indiranagar    3    0    0         0   \n",
            "38                    Taluk Hospital Devanahalli   19    1    0         0   \n",
            "39                       Taluk Hospital Hosakote    2    1    0         0   \n",
            "40                    Taluk Hospital Nelamangala    3    0    0         0   \n",
            "41            Taluka Heath Center Doddaballapura    1    0    0         0   \n",
            "42                                           Gen  Gen  HDU  ICU  ICUVentl   \n",
            "43                                            10    0    0    0         0   \n",
            "44                                            67    0    0    0         0   \n",
            "45                                            60    0    0    0         0   \n",
            "46                                            41   10    0    0         0   \n",
            "47                                            61    4    0    0         0   \n",
            "48                                            32   16    0    0         0   \n",
            "49                                            30    3    0    0         0   \n",
            "50                                            70    0    0    0         0   \n",
            "51                                           120    3    0    0         0   \n",
            "52                                            45   19    1    0         0   \n",
            "53                                            32    2    1    0         0   \n",
            "54                                            30    3    0    0         0   \n",
            "55                                            60    1    0    0         0   \n",
            "\n",
            "    Total  \n",
            "0   Total  \n",
            "1       0  \n",
            "2       0  \n",
            "3       0  \n",
            "4      10  \n",
            "5       4  \n",
            "6      16  \n",
            "7       3  \n",
            "8       0  \n",
            "9       3  \n",
            "10     20  \n",
            "11      3  \n",
            "12      3  \n",
            "13      1  \n",
            "14  Total  \n",
            "15      0  \n",
            "16      0  \n",
            "17      0  \n",
            "18     10  \n",
            "19      4  \n",
            "20     16  \n",
            "21      3  \n",
            "22      0  \n",
            "23      3  \n",
            "24     20  \n",
            "25      3  \n",
            "26      3  \n",
            "27      1  \n",
            "28  Total  \n",
            "29      0  \n",
            "30      0  \n",
            "31      0  \n",
            "32     10  \n",
            "33      4  \n",
            "34     16  \n",
            "35      3  \n",
            "36      0  \n",
            "37      3  \n",
            "38     20  \n",
            "39      3  \n",
            "40      3  \n",
            "41      1  \n",
            "42  Total  \n",
            "43      0  \n",
            "44      0  \n",
            "45      0  \n",
            "46     10  \n",
            "47      4  \n",
            "48     16  \n",
            "49      3  \n",
            "50      0  \n",
            "51      3  \n",
            "52     20  \n",
            "53      3  \n",
            "54      3  \n",
            "55      1  \n"
          ],
          "name": "stdout"
        }
      ]
    },
    {
      "cell_type": "code",
      "metadata": {
        "colab": {
          "base_uri": "https://localhost:8080/",
          "height": 17
        },
        "id": "a68gz0aGB3tx",
        "outputId": "8d077438-ca4d-4b62-ec72-ce337f047d06"
      },
      "source": [
        "hospitals.to_csv(\"hospitals.csv\")\n",
        "files.download('hospitals.csv')"
      ],
      "execution_count": null,
      "outputs": [
        {
          "output_type": "display_data",
          "data": {
            "application/javascript": [
              "\n",
              "    async function download(id, filename, size) {\n",
              "      if (!google.colab.kernel.accessAllowed) {\n",
              "        return;\n",
              "      }\n",
              "      const div = document.createElement('div');\n",
              "      const label = document.createElement('label');\n",
              "      label.textContent = `Downloading \"${filename}\": `;\n",
              "      div.appendChild(label);\n",
              "      const progress = document.createElement('progress');\n",
              "      progress.max = size;\n",
              "      div.appendChild(progress);\n",
              "      document.body.appendChild(div);\n",
              "\n",
              "      const buffers = [];\n",
              "      let downloaded = 0;\n",
              "\n",
              "      const channel = await google.colab.kernel.comms.open(id);\n",
              "      // Send a message to notify the kernel that we're ready.\n",
              "      channel.send({})\n",
              "\n",
              "      for await (const message of channel.messages) {\n",
              "        // Send a message to notify the kernel that we're ready.\n",
              "        channel.send({})\n",
              "        if (message.buffers) {\n",
              "          for (const buffer of message.buffers) {\n",
              "            buffers.push(buffer);\n",
              "            downloaded += buffer.byteLength;\n",
              "            progress.value = downloaded;\n",
              "          }\n",
              "        }\n",
              "      }\n",
              "      const blob = new Blob(buffers, {type: 'application/binary'});\n",
              "      const a = document.createElement('a');\n",
              "      a.href = window.URL.createObjectURL(blob);\n",
              "      a.download = filename;\n",
              "      div.appendChild(a);\n",
              "      a.click();\n",
              "      div.remove();\n",
              "    }\n",
              "  "
            ],
            "text/plain": [
              "<IPython.core.display.Javascript object>"
            ]
          },
          "metadata": {
            "tags": []
          }
        },
        {
          "output_type": "display_data",
          "data": {
            "application/javascript": [
              "download(\"download_58dbb61a-a1a7-451a-acca-8f9f7dcbc0f8\", \"hospitals.csv\", 624)"
            ],
            "text/plain": [
              "<IPython.core.display.Javascript object>"
            ]
          },
          "metadata": {
            "tags": []
          }
        }
      ]
    }
  ]
}